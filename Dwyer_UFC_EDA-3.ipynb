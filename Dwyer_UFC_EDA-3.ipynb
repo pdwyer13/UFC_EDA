{
  "nbformat": 4,
  "nbformat_minor": 0,
  "metadata": {
    "colab": {
      "name": "Dwyer_UFC_EDA.ipynb",
      "provenance": [],
      "toc_visible": true
    },
    "kernelspec": {
      "display_name": "Python 3",
      "name": "python3"
    }
  },
  "cells": [
    {
      "cell_type": "markdown",
      "metadata": {
        "id": "ISA6x_bbFLb4"
      },
      "source": [
        "# Patrick Dwyer\n",
        "## *EDA on UFC Fight Data*\n",
        "In this project, I will be analyzing a dataset that consists of a row for each UFC fight over the last 10 years. Each fighter is defined randomly as the \"Blue\" or \"Red\" corner, and the columns include various fight variables for each fighter. Fight variables include measureables, fight stats, streaks and trends. \n",
        "\n",
        "The goal of this project is to better understand what can happen in a fight based on the hundreds of varaibles that go into each bout. To do this, there are several things I want to analyze. \n",
        "\n",
        "I want to analyze a few topics of convential wisdom, such as the impact of reach and age to understand if our preconceptions about an MMA fight are leading to results one way or another. \n",
        "\n",
        "I also want to analyze a few topics of debate, such as the impact of an empty arena as a result of COVID-19, as well as, the debate on whether a stand-up fighter is better than a Jiu-Jitsu fighter in the sport of MMA.\n",
        "\n",
        "Lastly, I want to analyze a major topic that I was seperately curious about; the impact of winning and losing on a fighter's future UFC career."
      ]
    },
    {
      "cell_type": "code",
      "metadata": {
        "colab": {
          "base_uri": "https://localhost:8080/",
          "height": 649
        },
        "id": "-H-yQ07HjURS",
        "outputId": "80dbaf1d-c240-48e0-de22-2807dd2f8f9d"
      },
      "source": [
        "import pandas as pd\n",
        "import numpy as np\n",
        "\n",
        "url = 'https://www.kaggle.com/mdabbert/ultimate-ufc-dataset?select=ufc-master.csv'\n",
        "# Pass data through pandas and into a df.\n",
        "data = pd.read_csv('ufc-master-3.csv')\n",
        "ufcdata = pd.DataFrame(data)\n",
        "# Show basic information about the formatted df.\n",
        "print(\"The shape of the DataFrame is\",ufcdata.shape)\n",
        "print(\"Each fighter has their statistics held in the following columns\",ufcdata.columns)\n",
        "# Show an example row of the df to better understand the data.\n",
        "pd.set_option('display.max_columns', None)\n",
        "\n",
        "# Since this is a very large dataset, there are many NaN values for some of the columns as they don't apply to a each fight.\n",
        "# In this case, there are columns for the official UFC rankings, but each fight only takes place in 1 division, where only 15 fighters are ranked.\n",
        "# Thus, there are many categorical columns that could just be represented by 0.\n",
        "# In order to fix this issue, we use the .fillna function to fill empty values with a 0.\n",
        "\n",
        "ufcdata = ufcdata.fillna(0)\n",
        "\n",
        "# Next, to further clean the data, we remove the columns at the end of the df because they are only filled out for about half the fights.\n",
        "# The columns we want to remove begin with \"better_rank\" and end at the last column of the df.\n",
        "# This is a seperate issue from the NaN issue becuase filling these columns with 0 would lead to summation errors.\n",
        "\n",
        "ufcdata.columns.get_loc(\"better_rank\")\n",
        "ufcdata.drop(ufcdata.iloc[:,107:138],inplace = True, axis = 1)\n",
        "display(ufcdata.head())\n",
        "\n",
        "# Now our data is cleaned and ready for our analysis questions! "
      ],
      "execution_count": 1,
      "outputs": [
        {
          "output_type": "stream",
          "text": [
            "The shape of the DataFrame is (4566, 137)\n",
            "Each fighter has their statistics held in the following columns Index(['R_fighter', 'B_fighter', 'R_odds', 'B_odds', 'R_ev', 'B_ev', 'date',\n",
            "       'location', 'country', 'Winner',\n",
            "       ...\n",
            "       'R_td_attempted_bout', 'B_td_attempted_bout', 'R_td_pct_bout',\n",
            "       'B_td_pct_bout', 'R_sub_attempts_bout', 'B_sub_attempts_bout',\n",
            "       'R_pass_bout', 'B_pass_bout', 'R_rev_bout', 'B_rev_bout'],\n",
            "      dtype='object', length=137)\n"
          ],
          "name": "stdout"
        },
        {
          "output_type": "display_data",
          "data": {
            "text/html": [
              "<div>\n",
              "<style scoped>\n",
              "    .dataframe tbody tr th:only-of-type {\n",
              "        vertical-align: middle;\n",
              "    }\n",
              "\n",
              "    .dataframe tbody tr th {\n",
              "        vertical-align: top;\n",
              "    }\n",
              "\n",
              "    .dataframe thead th {\n",
              "        text-align: right;\n",
              "    }\n",
              "</style>\n",
              "<table border=\"1\" class=\"dataframe\">\n",
              "  <thead>\n",
              "    <tr style=\"text-align: right;\">\n",
              "      <th></th>\n",
              "      <th>R_fighter</th>\n",
              "      <th>B_fighter</th>\n",
              "      <th>R_odds</th>\n",
              "      <th>B_odds</th>\n",
              "      <th>R_ev</th>\n",
              "      <th>B_ev</th>\n",
              "      <th>date</th>\n",
              "      <th>location</th>\n",
              "      <th>country</th>\n",
              "      <th>Winner</th>\n",
              "      <th>title_bout</th>\n",
              "      <th>weight_class</th>\n",
              "      <th>gender</th>\n",
              "      <th>no_of_rounds</th>\n",
              "      <th>B_current_lose_streak</th>\n",
              "      <th>B_current_win_streak</th>\n",
              "      <th>B_draw</th>\n",
              "      <th>B_avg_SIG_STR_landed</th>\n",
              "      <th>B_avg_SIG_STR_pct</th>\n",
              "      <th>B_avg_SUB_ATT</th>\n",
              "      <th>B_avg_TD_landed</th>\n",
              "      <th>B_avg_TD_pct</th>\n",
              "      <th>B_longest_win_streak</th>\n",
              "      <th>B_losses</th>\n",
              "      <th>B_total_rounds_fought</th>\n",
              "      <th>B_total_title_bouts</th>\n",
              "      <th>B_win_by_Decision_Majority</th>\n",
              "      <th>B_win_by_Decision_Split</th>\n",
              "      <th>B_win_by_Decision_Unanimous</th>\n",
              "      <th>B_win_by_KO/TKO</th>\n",
              "      <th>B_win_by_Submission</th>\n",
              "      <th>B_win_by_TKO_Doctor_Stoppage</th>\n",
              "      <th>B_wins</th>\n",
              "      <th>B_Stance</th>\n",
              "      <th>B_Height_cms</th>\n",
              "      <th>B_Reach_cms</th>\n",
              "      <th>B_Weight_lbs</th>\n",
              "      <th>R_current_lose_streak</th>\n",
              "      <th>R_current_win_streak</th>\n",
              "      <th>R_draw</th>\n",
              "      <th>R_avg_SIG_STR_landed</th>\n",
              "      <th>R_avg_SIG_STR_pct</th>\n",
              "      <th>R_avg_SUB_ATT</th>\n",
              "      <th>R_avg_TD_landed</th>\n",
              "      <th>R_avg_TD_pct</th>\n",
              "      <th>R_longest_win_streak</th>\n",
              "      <th>R_losses</th>\n",
              "      <th>R_total_rounds_fought</th>\n",
              "      <th>R_total_title_bouts</th>\n",
              "      <th>R_win_by_Decision_Majority</th>\n",
              "      <th>R_win_by_Decision_Split</th>\n",
              "      <th>R_win_by_Decision_Unanimous</th>\n",
              "      <th>R_win_by_KO/TKO</th>\n",
              "      <th>R_win_by_Submission</th>\n",
              "      <th>R_win_by_TKO_Doctor_Stoppage</th>\n",
              "      <th>R_wins</th>\n",
              "      <th>R_Stance</th>\n",
              "      <th>R_Height_cms</th>\n",
              "      <th>R_Reach_cms</th>\n",
              "      <th>R_Weight_lbs</th>\n",
              "      <th>R_age</th>\n",
              "      <th>B_age</th>\n",
              "      <th>lose_streak_dif</th>\n",
              "      <th>win_streak_dif</th>\n",
              "      <th>longest_win_streak_dif</th>\n",
              "      <th>win_dif</th>\n",
              "      <th>loss_dif</th>\n",
              "      <th>total_round_dif</th>\n",
              "      <th>total_title_bout_dif</th>\n",
              "      <th>ko_dif</th>\n",
              "      <th>sub_dif</th>\n",
              "      <th>height_dif</th>\n",
              "      <th>reach_dif</th>\n",
              "      <th>age_dif</th>\n",
              "      <th>sig_str_dif</th>\n",
              "      <th>avg_sub_att_dif</th>\n",
              "      <th>avg_td_dif</th>\n",
              "      <th>empty_arena</th>\n",
              "      <th>constant_1</th>\n",
              "      <th>B_match_weightclass_rank</th>\n",
              "      <th>R_match_weightclass_rank</th>\n",
              "      <th>R_Women's Flyweight_rank</th>\n",
              "      <th>R_Women's Featherweight_rank</th>\n",
              "      <th>R_Women's Strawweight_rank</th>\n",
              "      <th>R_Women's Bantamweight_rank</th>\n",
              "      <th>R_Heavyweight_rank</th>\n",
              "      <th>R_Light Heavyweight_rank</th>\n",
              "      <th>R_Middleweight_rank</th>\n",
              "      <th>R_Welterweight_rank</th>\n",
              "      <th>R_Lightweight_rank</th>\n",
              "      <th>R_Featherweight_rank</th>\n",
              "      <th>R_Bantamweight_rank</th>\n",
              "      <th>R_Flyweight_rank</th>\n",
              "      <th>R_Pound-for-Pound_rank</th>\n",
              "      <th>B_Women's Flyweight_rank</th>\n",
              "      <th>B_Women's Featherweight_rank</th>\n",
              "      <th>B_Women's Strawweight_rank</th>\n",
              "      <th>B_Women's Bantamweight_rank</th>\n",
              "      <th>B_Heavyweight_rank</th>\n",
              "      <th>B_Light Heavyweight_rank</th>\n",
              "      <th>B_Middleweight_rank</th>\n",
              "      <th>B_Welterweight_rank</th>\n",
              "      <th>B_Lightweight_rank</th>\n",
              "      <th>B_Featherweight_rank</th>\n",
              "      <th>B_Bantamweight_rank</th>\n",
              "      <th>B_Flyweight_rank</th>\n",
              "      <th>B_Pound-for-Pound_rank</th>\n",
              "    </tr>\n",
              "  </thead>\n",
              "  <tbody>\n",
              "    <tr>\n",
              "      <th>0</th>\n",
              "      <td>Alistair Overeem</td>\n",
              "      <td>Alexander Volkov</td>\n",
              "      <td>150</td>\n",
              "      <td>-182</td>\n",
              "      <td>150.000000</td>\n",
              "      <td>54.945055</td>\n",
              "      <td>2/6/21</td>\n",
              "      <td>Las Vegas, Nevada, USA</td>\n",
              "      <td>USA</td>\n",
              "      <td>Blue</td>\n",
              "      <td>False</td>\n",
              "      <td>Heavyweight</td>\n",
              "      <td>MALE</td>\n",
              "      <td>5</td>\n",
              "      <td>0</td>\n",
              "      <td>1</td>\n",
              "      <td>0</td>\n",
              "      <td>4.76</td>\n",
              "      <td>0.58</td>\n",
              "      <td>0.2</td>\n",
              "      <td>0.69</td>\n",
              "      <td>0.70</td>\n",
              "      <td>4</td>\n",
              "      <td>2</td>\n",
              "      <td>26</td>\n",
              "      <td>0</td>\n",
              "      <td>0</td>\n",
              "      <td>1</td>\n",
              "      <td>2</td>\n",
              "      <td>3</td>\n",
              "      <td>0</td>\n",
              "      <td>0</td>\n",
              "      <td>6</td>\n",
              "      <td>Orthodox</td>\n",
              "      <td>200.66</td>\n",
              "      <td>203.20</td>\n",
              "      <td>250</td>\n",
              "      <td>0</td>\n",
              "      <td>2</td>\n",
              "      <td>0</td>\n",
              "      <td>3.71</td>\n",
              "      <td>0.64</td>\n",
              "      <td>0.8</td>\n",
              "      <td>1.44</td>\n",
              "      <td>0.56</td>\n",
              "      <td>11</td>\n",
              "      <td>15</td>\n",
              "      <td>83</td>\n",
              "      <td>1</td>\n",
              "      <td>1</td>\n",
              "      <td>0</td>\n",
              "      <td>4</td>\n",
              "      <td>20</td>\n",
              "      <td>8</td>\n",
              "      <td>0</td>\n",
              "      <td>33</td>\n",
              "      <td>Orthodox</td>\n",
              "      <td>193.04</td>\n",
              "      <td>203.20</td>\n",
              "      <td>265</td>\n",
              "      <td>40</td>\n",
              "      <td>32</td>\n",
              "      <td>0</td>\n",
              "      <td>-1</td>\n",
              "      <td>-7</td>\n",
              "      <td>-27</td>\n",
              "      <td>-13</td>\n",
              "      <td>-57</td>\n",
              "      <td>-1</td>\n",
              "      <td>-17</td>\n",
              "      <td>-8</td>\n",
              "      <td>7.62</td>\n",
              "      <td>0.00</td>\n",
              "      <td>-8</td>\n",
              "      <td>1.05</td>\n",
              "      <td>-0.6</td>\n",
              "      <td>-0.75</td>\n",
              "      <td>1</td>\n",
              "      <td>1</td>\n",
              "      <td>6.0</td>\n",
              "      <td>5.0</td>\n",
              "      <td>0.0</td>\n",
              "      <td>0.0</td>\n",
              "      <td>0.0</td>\n",
              "      <td>0.0</td>\n",
              "      <td>5.0</td>\n",
              "      <td>0.0</td>\n",
              "      <td>0.0</td>\n",
              "      <td>0.0</td>\n",
              "      <td>0.0</td>\n",
              "      <td>0.0</td>\n",
              "      <td>0.0</td>\n",
              "      <td>0.0</td>\n",
              "      <td>0.0</td>\n",
              "      <td>0.0</td>\n",
              "      <td>0.0</td>\n",
              "      <td>0.0</td>\n",
              "      <td>0.0</td>\n",
              "      <td>6.0</td>\n",
              "      <td>0.0</td>\n",
              "      <td>0.0</td>\n",
              "      <td>0.0</td>\n",
              "      <td>0.0</td>\n",
              "      <td>0.0</td>\n",
              "      <td>0.0</td>\n",
              "      <td>0.0</td>\n",
              "      <td>0.0</td>\n",
              "    </tr>\n",
              "    <tr>\n",
              "      <th>1</th>\n",
              "      <td>Cory Sandhagen</td>\n",
              "      <td>Frankie Edgar</td>\n",
              "      <td>-400</td>\n",
              "      <td>300</td>\n",
              "      <td>25.000000</td>\n",
              "      <td>300.000000</td>\n",
              "      <td>2/6/21</td>\n",
              "      <td>Las Vegas, Nevada, USA</td>\n",
              "      <td>USA</td>\n",
              "      <td>Red</td>\n",
              "      <td>False</td>\n",
              "      <td>Bantamweight</td>\n",
              "      <td>MALE</td>\n",
              "      <td>3</td>\n",
              "      <td>0</td>\n",
              "      <td>1</td>\n",
              "      <td>1</td>\n",
              "      <td>3.70</td>\n",
              "      <td>0.39</td>\n",
              "      <td>0.3</td>\n",
              "      <td>2.28</td>\n",
              "      <td>0.31</td>\n",
              "      <td>5</td>\n",
              "      <td>8</td>\n",
              "      <td>94</td>\n",
              "      <td>9</td>\n",
              "      <td>0</td>\n",
              "      <td>1</td>\n",
              "      <td>10</td>\n",
              "      <td>5</td>\n",
              "      <td>2</td>\n",
              "      <td>0</td>\n",
              "      <td>18</td>\n",
              "      <td>Orthodox</td>\n",
              "      <td>167.64</td>\n",
              "      <td>172.72</td>\n",
              "      <td>135</td>\n",
              "      <td>0</td>\n",
              "      <td>1</td>\n",
              "      <td>0</td>\n",
              "      <td>6.88</td>\n",
              "      <td>0.48</td>\n",
              "      <td>0.5</td>\n",
              "      <td>1.07</td>\n",
              "      <td>0.50</td>\n",
              "      <td>5</td>\n",
              "      <td>1</td>\n",
              "      <td>14</td>\n",
              "      <td>0</td>\n",
              "      <td>0</td>\n",
              "      <td>1</td>\n",
              "      <td>1</td>\n",
              "      <td>3</td>\n",
              "      <td>1</td>\n",
              "      <td>0</td>\n",
              "      <td>6</td>\n",
              "      <td>Switch</td>\n",
              "      <td>180.34</td>\n",
              "      <td>177.80</td>\n",
              "      <td>135</td>\n",
              "      <td>28</td>\n",
              "      <td>39</td>\n",
              "      <td>0</td>\n",
              "      <td>0</td>\n",
              "      <td>0</td>\n",
              "      <td>12</td>\n",
              "      <td>7</td>\n",
              "      <td>80</td>\n",
              "      <td>9</td>\n",
              "      <td>2</td>\n",
              "      <td>1</td>\n",
              "      <td>-12.70</td>\n",
              "      <td>-5.08</td>\n",
              "      <td>11</td>\n",
              "      <td>-3.18</td>\n",
              "      <td>-0.2</td>\n",
              "      <td>1.21</td>\n",
              "      <td>1</td>\n",
              "      <td>1</td>\n",
              "      <td>4.0</td>\n",
              "      <td>2.0</td>\n",
              "      <td>0.0</td>\n",
              "      <td>0.0</td>\n",
              "      <td>0.0</td>\n",
              "      <td>0.0</td>\n",
              "      <td>0.0</td>\n",
              "      <td>0.0</td>\n",
              "      <td>0.0</td>\n",
              "      <td>0.0</td>\n",
              "      <td>0.0</td>\n",
              "      <td>0.0</td>\n",
              "      <td>2.0</td>\n",
              "      <td>0.0</td>\n",
              "      <td>0.0</td>\n",
              "      <td>0.0</td>\n",
              "      <td>0.0</td>\n",
              "      <td>0.0</td>\n",
              "      <td>0.0</td>\n",
              "      <td>0.0</td>\n",
              "      <td>0.0</td>\n",
              "      <td>0.0</td>\n",
              "      <td>0.0</td>\n",
              "      <td>0.0</td>\n",
              "      <td>0.0</td>\n",
              "      <td>4.0</td>\n",
              "      <td>0.0</td>\n",
              "      <td>0.0</td>\n",
              "    </tr>\n",
              "    <tr>\n",
              "      <th>2</th>\n",
              "      <td>Alexandre Pantoja</td>\n",
              "      <td>Manel Kape</td>\n",
              "      <td>-125</td>\n",
              "      <td>100</td>\n",
              "      <td>80.000000</td>\n",
              "      <td>100.000000</td>\n",
              "      <td>2/6/21</td>\n",
              "      <td>Las Vegas, Nevada, USA</td>\n",
              "      <td>USA</td>\n",
              "      <td>Red</td>\n",
              "      <td>False</td>\n",
              "      <td>Flyweight</td>\n",
              "      <td>MALE</td>\n",
              "      <td>3</td>\n",
              "      <td>0</td>\n",
              "      <td>0</td>\n",
              "      <td>0</td>\n",
              "      <td>0.00</td>\n",
              "      <td>0.00</td>\n",
              "      <td>0.0</td>\n",
              "      <td>0.00</td>\n",
              "      <td>0.00</td>\n",
              "      <td>0</td>\n",
              "      <td>0</td>\n",
              "      <td>0</td>\n",
              "      <td>0</td>\n",
              "      <td>0</td>\n",
              "      <td>0</td>\n",
              "      <td>0</td>\n",
              "      <td>0</td>\n",
              "      <td>0</td>\n",
              "      <td>0</td>\n",
              "      <td>0</td>\n",
              "      <td>Southpaw</td>\n",
              "      <td>165.10</td>\n",
              "      <td>172.72</td>\n",
              "      <td>125</td>\n",
              "      <td>1</td>\n",
              "      <td>0</td>\n",
              "      <td>0</td>\n",
              "      <td>4.20</td>\n",
              "      <td>0.47</td>\n",
              "      <td>1.1</td>\n",
              "      <td>1.08</td>\n",
              "      <td>0.36</td>\n",
              "      <td>3</td>\n",
              "      <td>3</td>\n",
              "      <td>21</td>\n",
              "      <td>0</td>\n",
              "      <td>0</td>\n",
              "      <td>1</td>\n",
              "      <td>1</td>\n",
              "      <td>2</td>\n",
              "      <td>2</td>\n",
              "      <td>0</td>\n",
              "      <td>6</td>\n",
              "      <td>Orthodox</td>\n",
              "      <td>165.10</td>\n",
              "      <td>170.18</td>\n",
              "      <td>125</td>\n",
              "      <td>30</td>\n",
              "      <td>27</td>\n",
              "      <td>-1</td>\n",
              "      <td>0</td>\n",
              "      <td>-3</td>\n",
              "      <td>-6</td>\n",
              "      <td>-3</td>\n",
              "      <td>-21</td>\n",
              "      <td>0</td>\n",
              "      <td>-2</td>\n",
              "      <td>-2</td>\n",
              "      <td>0.00</td>\n",
              "      <td>2.54</td>\n",
              "      <td>-3</td>\n",
              "      <td>-4.20</td>\n",
              "      <td>-1.1</td>\n",
              "      <td>-1.08</td>\n",
              "      <td>1</td>\n",
              "      <td>1</td>\n",
              "      <td>0.0</td>\n",
              "      <td>5.0</td>\n",
              "      <td>0.0</td>\n",
              "      <td>0.0</td>\n",
              "      <td>0.0</td>\n",
              "      <td>0.0</td>\n",
              "      <td>0.0</td>\n",
              "      <td>0.0</td>\n",
              "      <td>0.0</td>\n",
              "      <td>0.0</td>\n",
              "      <td>0.0</td>\n",
              "      <td>0.0</td>\n",
              "      <td>0.0</td>\n",
              "      <td>5.0</td>\n",
              "      <td>0.0</td>\n",
              "      <td>0.0</td>\n",
              "      <td>0.0</td>\n",
              "      <td>0.0</td>\n",
              "      <td>0.0</td>\n",
              "      <td>0.0</td>\n",
              "      <td>0.0</td>\n",
              "      <td>0.0</td>\n",
              "      <td>0.0</td>\n",
              "      <td>0.0</td>\n",
              "      <td>0.0</td>\n",
              "      <td>0.0</td>\n",
              "      <td>0.0</td>\n",
              "      <td>0.0</td>\n",
              "    </tr>\n",
              "    <tr>\n",
              "      <th>3</th>\n",
              "      <td>Diego Ferreira</td>\n",
              "      <td>Beneil Dariush</td>\n",
              "      <td>-125</td>\n",
              "      <td>105</td>\n",
              "      <td>80.000000</td>\n",
              "      <td>105.000000</td>\n",
              "      <td>2/6/21</td>\n",
              "      <td>Las Vegas, Nevada, USA</td>\n",
              "      <td>USA</td>\n",
              "      <td>Blue</td>\n",
              "      <td>False</td>\n",
              "      <td>Lightweight</td>\n",
              "      <td>MALE</td>\n",
              "      <td>3</td>\n",
              "      <td>0</td>\n",
              "      <td>5</td>\n",
              "      <td>1</td>\n",
              "      <td>3.98</td>\n",
              "      <td>0.49</td>\n",
              "      <td>1.1</td>\n",
              "      <td>1.75</td>\n",
              "      <td>0.32</td>\n",
              "      <td>5</td>\n",
              "      <td>4</td>\n",
              "      <td>36</td>\n",
              "      <td>0</td>\n",
              "      <td>0</td>\n",
              "      <td>1</td>\n",
              "      <td>4</td>\n",
              "      <td>3</td>\n",
              "      <td>5</td>\n",
              "      <td>0</td>\n",
              "      <td>13</td>\n",
              "      <td>Southpaw</td>\n",
              "      <td>177.80</td>\n",
              "      <td>182.88</td>\n",
              "      <td>155</td>\n",
              "      <td>0</td>\n",
              "      <td>6</td>\n",
              "      <td>0</td>\n",
              "      <td>5.07</td>\n",
              "      <td>0.36</td>\n",
              "      <td>1.0</td>\n",
              "      <td>1.04</td>\n",
              "      <td>0.27</td>\n",
              "      <td>6</td>\n",
              "      <td>2</td>\n",
              "      <td>21</td>\n",
              "      <td>0</td>\n",
              "      <td>0</td>\n",
              "      <td>0</td>\n",
              "      <td>3</td>\n",
              "      <td>3</td>\n",
              "      <td>2</td>\n",
              "      <td>0</td>\n",
              "      <td>8</td>\n",
              "      <td>Orthodox</td>\n",
              "      <td>175.26</td>\n",
              "      <td>187.96</td>\n",
              "      <td>155</td>\n",
              "      <td>36</td>\n",
              "      <td>31</td>\n",
              "      <td>0</td>\n",
              "      <td>-1</td>\n",
              "      <td>-1</td>\n",
              "      <td>5</td>\n",
              "      <td>2</td>\n",
              "      <td>15</td>\n",
              "      <td>0</td>\n",
              "      <td>0</td>\n",
              "      <td>3</td>\n",
              "      <td>2.54</td>\n",
              "      <td>-5.08</td>\n",
              "      <td>-5</td>\n",
              "      <td>-1.09</td>\n",
              "      <td>0.1</td>\n",
              "      <td>0.71</td>\n",
              "      <td>1</td>\n",
              "      <td>1</td>\n",
              "      <td>13.0</td>\n",
              "      <td>10.0</td>\n",
              "      <td>0.0</td>\n",
              "      <td>0.0</td>\n",
              "      <td>0.0</td>\n",
              "      <td>0.0</td>\n",
              "      <td>0.0</td>\n",
              "      <td>0.0</td>\n",
              "      <td>0.0</td>\n",
              "      <td>0.0</td>\n",
              "      <td>10.0</td>\n",
              "      <td>0.0</td>\n",
              "      <td>0.0</td>\n",
              "      <td>0.0</td>\n",
              "      <td>0.0</td>\n",
              "      <td>0.0</td>\n",
              "      <td>0.0</td>\n",
              "      <td>0.0</td>\n",
              "      <td>0.0</td>\n",
              "      <td>0.0</td>\n",
              "      <td>0.0</td>\n",
              "      <td>0.0</td>\n",
              "      <td>0.0</td>\n",
              "      <td>13.0</td>\n",
              "      <td>0.0</td>\n",
              "      <td>0.0</td>\n",
              "      <td>0.0</td>\n",
              "      <td>0.0</td>\n",
              "    </tr>\n",
              "    <tr>\n",
              "      <th>4</th>\n",
              "      <td>Michael Johnson</td>\n",
              "      <td>Clay Guida</td>\n",
              "      <td>-225</td>\n",
              "      <td>175</td>\n",
              "      <td>44.444444</td>\n",
              "      <td>175.000000</td>\n",
              "      <td>2/6/21</td>\n",
              "      <td>Las Vegas, Nevada, USA</td>\n",
              "      <td>USA</td>\n",
              "      <td>Blue</td>\n",
              "      <td>False</td>\n",
              "      <td>Lightweight</td>\n",
              "      <td>MALE</td>\n",
              "      <td>3</td>\n",
              "      <td>2</td>\n",
              "      <td>0</td>\n",
              "      <td>0</td>\n",
              "      <td>2.41</td>\n",
              "      <td>0.33</td>\n",
              "      <td>0.7</td>\n",
              "      <td>3.37</td>\n",
              "      <td>0.38</td>\n",
              "      <td>4</td>\n",
              "      <td>15</td>\n",
              "      <td>87</td>\n",
              "      <td>0</td>\n",
              "      <td>0</td>\n",
              "      <td>3</td>\n",
              "      <td>8</td>\n",
              "      <td>2</td>\n",
              "      <td>4</td>\n",
              "      <td>0</td>\n",
              "      <td>17</td>\n",
              "      <td>Orthodox</td>\n",
              "      <td>170.18</td>\n",
              "      <td>177.80</td>\n",
              "      <td>155</td>\n",
              "      <td>3</td>\n",
              "      <td>0</td>\n",
              "      <td>0</td>\n",
              "      <td>4.23</td>\n",
              "      <td>0.38</td>\n",
              "      <td>0.1</td>\n",
              "      <td>0.51</td>\n",
              "      <td>0.45</td>\n",
              "      <td>4</td>\n",
              "      <td>12</td>\n",
              "      <td>58</td>\n",
              "      <td>0</td>\n",
              "      <td>0</td>\n",
              "      <td>1</td>\n",
              "      <td>6</td>\n",
              "      <td>4</td>\n",
              "      <td>0</td>\n",
              "      <td>0</td>\n",
              "      <td>11</td>\n",
              "      <td>Southpaw</td>\n",
              "      <td>177.80</td>\n",
              "      <td>185.42</td>\n",
              "      <td>155</td>\n",
              "      <td>34</td>\n",
              "      <td>39</td>\n",
              "      <td>-1</td>\n",
              "      <td>0</td>\n",
              "      <td>0</td>\n",
              "      <td>6</td>\n",
              "      <td>3</td>\n",
              "      <td>29</td>\n",
              "      <td>0</td>\n",
              "      <td>-2</td>\n",
              "      <td>4</td>\n",
              "      <td>-7.62</td>\n",
              "      <td>-7.62</td>\n",
              "      <td>5</td>\n",
              "      <td>-1.82</td>\n",
              "      <td>0.6</td>\n",
              "      <td>2.86</td>\n",
              "      <td>1</td>\n",
              "      <td>1</td>\n",
              "      <td>0.0</td>\n",
              "      <td>0.0</td>\n",
              "      <td>0.0</td>\n",
              "      <td>0.0</td>\n",
              "      <td>0.0</td>\n",
              "      <td>0.0</td>\n",
              "      <td>0.0</td>\n",
              "      <td>0.0</td>\n",
              "      <td>0.0</td>\n",
              "      <td>0.0</td>\n",
              "      <td>0.0</td>\n",
              "      <td>0.0</td>\n",
              "      <td>0.0</td>\n",
              "      <td>0.0</td>\n",
              "      <td>0.0</td>\n",
              "      <td>0.0</td>\n",
              "      <td>0.0</td>\n",
              "      <td>0.0</td>\n",
              "      <td>0.0</td>\n",
              "      <td>0.0</td>\n",
              "      <td>0.0</td>\n",
              "      <td>0.0</td>\n",
              "      <td>0.0</td>\n",
              "      <td>0.0</td>\n",
              "      <td>0.0</td>\n",
              "      <td>0.0</td>\n",
              "      <td>0.0</td>\n",
              "      <td>0.0</td>\n",
              "    </tr>\n",
              "  </tbody>\n",
              "</table>\n",
              "</div>"
            ],
            "text/plain": [
              "           R_fighter         B_fighter  R_odds  B_odds        R_ev  \\\n",
              "0   Alistair Overeem  Alexander Volkov     150    -182  150.000000   \n",
              "1     Cory Sandhagen     Frankie Edgar    -400     300   25.000000   \n",
              "2  Alexandre Pantoja        Manel Kape    -125     100   80.000000   \n",
              "3     Diego Ferreira    Beneil Dariush    -125     105   80.000000   \n",
              "4    Michael Johnson        Clay Guida    -225     175   44.444444   \n",
              "\n",
              "         B_ev    date                location country Winner  title_bout  \\\n",
              "0   54.945055  2/6/21  Las Vegas, Nevada, USA     USA   Blue       False   \n",
              "1  300.000000  2/6/21  Las Vegas, Nevada, USA     USA    Red       False   \n",
              "2  100.000000  2/6/21  Las Vegas, Nevada, USA     USA    Red       False   \n",
              "3  105.000000  2/6/21  Las Vegas, Nevada, USA     USA   Blue       False   \n",
              "4  175.000000  2/6/21  Las Vegas, Nevada, USA     USA   Blue       False   \n",
              "\n",
              "   weight_class gender  no_of_rounds  B_current_lose_streak  \\\n",
              "0   Heavyweight   MALE             5                      0   \n",
              "1  Bantamweight   MALE             3                      0   \n",
              "2     Flyweight   MALE             3                      0   \n",
              "3   Lightweight   MALE             3                      0   \n",
              "4   Lightweight   MALE             3                      2   \n",
              "\n",
              "   B_current_win_streak  B_draw  B_avg_SIG_STR_landed  B_avg_SIG_STR_pct  \\\n",
              "0                     1       0                  4.76               0.58   \n",
              "1                     1       1                  3.70               0.39   \n",
              "2                     0       0                  0.00               0.00   \n",
              "3                     5       1                  3.98               0.49   \n",
              "4                     0       0                  2.41               0.33   \n",
              "\n",
              "   B_avg_SUB_ATT  B_avg_TD_landed  B_avg_TD_pct  B_longest_win_streak  \\\n",
              "0            0.2             0.69          0.70                     4   \n",
              "1            0.3             2.28          0.31                     5   \n",
              "2            0.0             0.00          0.00                     0   \n",
              "3            1.1             1.75          0.32                     5   \n",
              "4            0.7             3.37          0.38                     4   \n",
              "\n",
              "   B_losses  B_total_rounds_fought  B_total_title_bouts  \\\n",
              "0         2                     26                    0   \n",
              "1         8                     94                    9   \n",
              "2         0                      0                    0   \n",
              "3         4                     36                    0   \n",
              "4        15                     87                    0   \n",
              "\n",
              "   B_win_by_Decision_Majority  B_win_by_Decision_Split  \\\n",
              "0                           0                        1   \n",
              "1                           0                        1   \n",
              "2                           0                        0   \n",
              "3                           0                        1   \n",
              "4                           0                        3   \n",
              "\n",
              "   B_win_by_Decision_Unanimous  B_win_by_KO/TKO  B_win_by_Submission  \\\n",
              "0                            2                3                    0   \n",
              "1                           10                5                    2   \n",
              "2                            0                0                    0   \n",
              "3                            4                3                    5   \n",
              "4                            8                2                    4   \n",
              "\n",
              "   B_win_by_TKO_Doctor_Stoppage  B_wins  B_Stance  B_Height_cms  B_Reach_cms  \\\n",
              "0                             0       6  Orthodox        200.66       203.20   \n",
              "1                             0      18  Orthodox        167.64       172.72   \n",
              "2                             0       0  Southpaw        165.10       172.72   \n",
              "3                             0      13  Southpaw        177.80       182.88   \n",
              "4                             0      17  Orthodox        170.18       177.80   \n",
              "\n",
              "   B_Weight_lbs  R_current_lose_streak  R_current_win_streak  R_draw  \\\n",
              "0           250                      0                     2       0   \n",
              "1           135                      0                     1       0   \n",
              "2           125                      1                     0       0   \n",
              "3           155                      0                     6       0   \n",
              "4           155                      3                     0       0   \n",
              "\n",
              "   R_avg_SIG_STR_landed  R_avg_SIG_STR_pct  R_avg_SUB_ATT  R_avg_TD_landed  \\\n",
              "0                  3.71               0.64            0.8             1.44   \n",
              "1                  6.88               0.48            0.5             1.07   \n",
              "2                  4.20               0.47            1.1             1.08   \n",
              "3                  5.07               0.36            1.0             1.04   \n",
              "4                  4.23               0.38            0.1             0.51   \n",
              "\n",
              "   R_avg_TD_pct  R_longest_win_streak  R_losses  R_total_rounds_fought  \\\n",
              "0          0.56                    11        15                     83   \n",
              "1          0.50                     5         1                     14   \n",
              "2          0.36                     3         3                     21   \n",
              "3          0.27                     6         2                     21   \n",
              "4          0.45                     4        12                     58   \n",
              "\n",
              "   R_total_title_bouts  R_win_by_Decision_Majority  R_win_by_Decision_Split  \\\n",
              "0                    1                           1                        0   \n",
              "1                    0                           0                        1   \n",
              "2                    0                           0                        1   \n",
              "3                    0                           0                        0   \n",
              "4                    0                           0                        1   \n",
              "\n",
              "   R_win_by_Decision_Unanimous  R_win_by_KO/TKO  R_win_by_Submission  \\\n",
              "0                            4               20                    8   \n",
              "1                            1                3                    1   \n",
              "2                            1                2                    2   \n",
              "3                            3                3                    2   \n",
              "4                            6                4                    0   \n",
              "\n",
              "   R_win_by_TKO_Doctor_Stoppage  R_wins  R_Stance  R_Height_cms  R_Reach_cms  \\\n",
              "0                             0      33  Orthodox        193.04       203.20   \n",
              "1                             0       6    Switch        180.34       177.80   \n",
              "2                             0       6  Orthodox        165.10       170.18   \n",
              "3                             0       8  Orthodox        175.26       187.96   \n",
              "4                             0      11  Southpaw        177.80       185.42   \n",
              "\n",
              "   R_Weight_lbs  R_age  B_age  lose_streak_dif  win_streak_dif  \\\n",
              "0           265     40     32                0              -1   \n",
              "1           135     28     39                0               0   \n",
              "2           125     30     27               -1               0   \n",
              "3           155     36     31                0              -1   \n",
              "4           155     34     39               -1               0   \n",
              "\n",
              "   longest_win_streak_dif  win_dif  loss_dif  total_round_dif  \\\n",
              "0                      -7      -27       -13              -57   \n",
              "1                       0       12         7               80   \n",
              "2                      -3       -6        -3              -21   \n",
              "3                      -1        5         2               15   \n",
              "4                       0        6         3               29   \n",
              "\n",
              "   total_title_bout_dif  ko_dif  sub_dif  height_dif  reach_dif  age_dif  \\\n",
              "0                    -1     -17       -8        7.62       0.00       -8   \n",
              "1                     9       2        1      -12.70      -5.08       11   \n",
              "2                     0      -2       -2        0.00       2.54       -3   \n",
              "3                     0       0        3        2.54      -5.08       -5   \n",
              "4                     0      -2        4       -7.62      -7.62        5   \n",
              "\n",
              "   sig_str_dif  avg_sub_att_dif  avg_td_dif  empty_arena  constant_1  \\\n",
              "0         1.05             -0.6       -0.75            1           1   \n",
              "1        -3.18             -0.2        1.21            1           1   \n",
              "2        -4.20             -1.1       -1.08            1           1   \n",
              "3        -1.09              0.1        0.71            1           1   \n",
              "4        -1.82              0.6        2.86            1           1   \n",
              "\n",
              "   B_match_weightclass_rank  R_match_weightclass_rank  \\\n",
              "0                       6.0                       5.0   \n",
              "1                       4.0                       2.0   \n",
              "2                       0.0                       5.0   \n",
              "3                      13.0                      10.0   \n",
              "4                       0.0                       0.0   \n",
              "\n",
              "   R_Women's Flyweight_rank  R_Women's Featherweight_rank  \\\n",
              "0                       0.0                           0.0   \n",
              "1                       0.0                           0.0   \n",
              "2                       0.0                           0.0   \n",
              "3                       0.0                           0.0   \n",
              "4                       0.0                           0.0   \n",
              "\n",
              "   R_Women's Strawweight_rank  R_Women's Bantamweight_rank  \\\n",
              "0                         0.0                          0.0   \n",
              "1                         0.0                          0.0   \n",
              "2                         0.0                          0.0   \n",
              "3                         0.0                          0.0   \n",
              "4                         0.0                          0.0   \n",
              "\n",
              "   R_Heavyweight_rank  R_Light Heavyweight_rank  R_Middleweight_rank  \\\n",
              "0                 5.0                       0.0                  0.0   \n",
              "1                 0.0                       0.0                  0.0   \n",
              "2                 0.0                       0.0                  0.0   \n",
              "3                 0.0                       0.0                  0.0   \n",
              "4                 0.0                       0.0                  0.0   \n",
              "\n",
              "   R_Welterweight_rank  R_Lightweight_rank  R_Featherweight_rank  \\\n",
              "0                  0.0                 0.0                   0.0   \n",
              "1                  0.0                 0.0                   0.0   \n",
              "2                  0.0                 0.0                   0.0   \n",
              "3                  0.0                10.0                   0.0   \n",
              "4                  0.0                 0.0                   0.0   \n",
              "\n",
              "   R_Bantamweight_rank  R_Flyweight_rank  R_Pound-for-Pound_rank  \\\n",
              "0                  0.0               0.0                     0.0   \n",
              "1                  2.0               0.0                     0.0   \n",
              "2                  0.0               5.0                     0.0   \n",
              "3                  0.0               0.0                     0.0   \n",
              "4                  0.0               0.0                     0.0   \n",
              "\n",
              "   B_Women's Flyweight_rank  B_Women's Featherweight_rank  \\\n",
              "0                       0.0                           0.0   \n",
              "1                       0.0                           0.0   \n",
              "2                       0.0                           0.0   \n",
              "3                       0.0                           0.0   \n",
              "4                       0.0                           0.0   \n",
              "\n",
              "   B_Women's Strawweight_rank  B_Women's Bantamweight_rank  \\\n",
              "0                         0.0                          0.0   \n",
              "1                         0.0                          0.0   \n",
              "2                         0.0                          0.0   \n",
              "3                         0.0                          0.0   \n",
              "4                         0.0                          0.0   \n",
              "\n",
              "   B_Heavyweight_rank  B_Light Heavyweight_rank  B_Middleweight_rank  \\\n",
              "0                 6.0                       0.0                  0.0   \n",
              "1                 0.0                       0.0                  0.0   \n",
              "2                 0.0                       0.0                  0.0   \n",
              "3                 0.0                       0.0                  0.0   \n",
              "4                 0.0                       0.0                  0.0   \n",
              "\n",
              "   B_Welterweight_rank  B_Lightweight_rank  B_Featherweight_rank  \\\n",
              "0                  0.0                 0.0                   0.0   \n",
              "1                  0.0                 0.0                   0.0   \n",
              "2                  0.0                 0.0                   0.0   \n",
              "3                  0.0                13.0                   0.0   \n",
              "4                  0.0                 0.0                   0.0   \n",
              "\n",
              "   B_Bantamweight_rank  B_Flyweight_rank  B_Pound-for-Pound_rank  \n",
              "0                  0.0               0.0                     0.0  \n",
              "1                  4.0               0.0                     0.0  \n",
              "2                  0.0               0.0                     0.0  \n",
              "3                  0.0               0.0                     0.0  \n",
              "4                  0.0               0.0                     0.0  "
            ]
          },
          "metadata": {
            "tags": []
          }
        }
      ]
    },
    {
      "cell_type": "markdown",
      "metadata": {
        "id": "XsM_RXgIHfJi"
      },
      "source": [
        "# Initial Question 1: Jiu Jitsu vs. Stand-up? "
      ]
    },
    {
      "cell_type": "markdown",
      "metadata": {
        "id": "dyDNm0Wi8f7_"
      },
      "source": [
        "There is an age old debate on which foundation of martial arts is more effective in MMA. Let's compare fights where a primary stand-up fighter fights a primary Jiu Jitsu fighter.\n",
        "\n",
        "To identify a Jiu-Jitsu specialist, we need to further understand the data. A Jiu-Jisu specialist generally fights by using submission, so we should look at columns such as \"win_by_submission\" or \"avg_SUB_ATT\" to identify those fighters. We do this by creating a list of indicies for fights that fit the 'Jiu Jitsu vs. Stand-up' Criteria. As an estimate, the 'Jiu Jitsu vs. Stand-up' Criteria is when one fighter has less than .5 submission attempt per fight (Stand-Up) and the other fighter has more than 1.5 submission attempts (Jiu-Jitsu)."
      ]
    },
    {
      "cell_type": "code",
      "metadata": {
        "id": "Z5WNUMQIIEE8"
      },
      "source": [
        "JvK_fight_index_1=[]\n",
        "JvK_fight_index_2=[]\n",
        "for fight,stats in ufcdata.iterrows():\n",
        "  if stats[\"B_avg_SUB_ATT\"]<=.5:\n",
        "    if stats[\"R_avg_SUB_ATT\"]>=1.5:\n",
        "      JvK_fight_index_1.append(fight)\n",
        "  elif stats[\"B_avg_SUB_ATT\"]>=1.5:\n",
        "    if stats[\"R_avg_SUB_ATT\"]<=.5:\n",
        "      JvK_fight_index_2.append(fight)\n",
        "\n",
        "# Now we have parsed through all fights and appended the qualifying fights to 2 lists.\n",
        "\n",
        "JvK_red = ufcdata.iloc[JvK_fight_index_1]\n",
        "JvK_blue = ufcdata.iloc[JvK_fight_index_2]\n",
        "\n",
        "# This creates two new dataframes. \n",
        "# JvK_red holds data where the red fighter is the Jiu Jitsu fighter\n",
        "# JvK_blue holds data where the blue fighter is the Jiu Jitsu fighter"
      ],
      "execution_count": 2,
      "outputs": []
    },
    {
      "cell_type": "code",
      "metadata": {
        "colab": {
          "base_uri": "https://localhost:8080/",
          "height": 312
        },
        "id": "5wSdT05MMJIY",
        "outputId": "fb273f30-489e-4bc0-ab2a-de04ace76766"
      },
      "source": [
        "# Where red is the Jiu Jitsu Fighter\n",
        "jiujitsu = 0\n",
        "j_list = []\n",
        "kickboxing = 0\n",
        "k_list = []\n",
        "for fight,stats in JvK_red.iterrows():\n",
        "    if stats[\"Winner\"] == \"Red\":\n",
        "      jiujitsu += 1\n",
        "      j_list.append(fight)\n",
        "    elif stats[\"Winner\"] == \"Blue\":\n",
        "      kickboxing += 1\n",
        "      k_list.append(fight)\n",
        "\n",
        "# Where blue is the Jiu Jitsu Fighter\n",
        "for fight,stats in JvK_blue.iterrows():\n",
        "    if stats[\"Winner\"] == \"Red\":\n",
        "      kickboxing += 1\n",
        "      k_list.append(fight)\n",
        "    elif stats[\"Winner\"] == \"Blue\":\n",
        "      jiujitsu += 1\n",
        "      j_list.append(fight)\n",
        "\n",
        "print(\"In matchups between the two styles, Jiujitsu fighters won\", jiujitsu,\"times and Stand-up fighters won\",kickboxing,\"Times.\")\n",
        "\n",
        "import matplotlib.pyplot as plt\n",
        "import seaborn as sn\n",
        "colors = [\"JiuJitsu\",\"Stand-up\"]\n",
        "stats = [jiujitsu,kickboxing]\n",
        "plt.bar(colors,stats,label='JiuJitsu',color =\"r\")\n",
        "plt.bar(colors,stats,label='Stand-up',color=\"b\")\n",
        "plt.plot()\n",
        "plt.xlabel('Fighting Style')\n",
        "plt.ylabel('Number of wins')\n",
        "plt.title('Jiu Jitsu vs. Stand-up in the UFC')\n",
        "plt.axis([\"JiuJitsu\", \"Stand-up\", 0, 200])\n",
        "plt.show()"
      ],
      "execution_count": 3,
      "outputs": [
        {
          "output_type": "stream",
          "text": [
            "In matchups between the two styles, Jiujitsu fighters won 176 times and Stand-up fighters won 163 Times.\n"
          ],
          "name": "stdout"
        },
        {
          "output_type": "display_data",
          "data": {
            "image/png": "[encoded data removed]",
            "text/plain": [
              "<Figure size 432x288 with 1 Axes>"
            ]
          },
          "metadata": {
            "tags": [],
            "needs_background": "light"
          }
        }
      ]
    },
    {
      "cell_type": "markdown",
      "metadata": {
        "id": "VvJlDbm5qZXM"
      },
      "source": [
        "This visualization is looking at all fights that were fought between Jiu-Jitsu fighters (1.5 or more Submission Attempts/Fight) and Stand-up fighters (.5 or less Submission Attempts/Fight). In the 339 fights between the two styles, I found that Jiu-Jisu fighters have won 176 times  and Stand-up fighters have won 163 times versus their adversary. When Jiu-Jitsu artists first entered the UFC, they were winning at a rapid rate becuase stand-up fighters had no Jiu-Jisu experience. For example, Royce Gracie, one of the first Jiu-Jitsu specialist in the UFC won his first 9 fights in the UFC, including 8 by Jiu-Jitsu submission. This period is likely why there are more wins for the Jiu-Jitsu style. However, in recent history there have been an increasing number of stand-up fighters that understand how to defend Jiu-Jitsu. This is intriguing and it is worth monitoring as we try and understand the effectivness of each fighting style. "
      ]
    },
    {
      "cell_type": "markdown",
      "metadata": {
        "id": "rbGSZ6wRX-_N"
      },
      "source": [
        "# Initial Question 2: What can we learn about age in the UFC? In what ways does age affect the way a fight goes?\n"
      ]
    },
    {
      "cell_type": "markdown",
      "metadata": {
        "id": "xYp9a1Vw9bMg"
      },
      "source": [
        "First lets look at a histogram for the ages. Since each row is a fight, there are two ages per row and 2 histograms."
      ]
    },
    {
      "cell_type": "code",
      "metadata": {
        "colab": {
          "base_uri": "https://localhost:8080/",
          "height": 856
        },
        "id": "Jxcd_HHlwQd3",
        "outputId": "eb5d567e-8433-48a5-fe2f-27dc3edcf1f4"
      },
      "source": [
        "age_b = sn.catplot('B_age',data=ufcdata,kind=\"count\")\n",
        "age_b.set_xticklabels(step=5)\n",
        "\n",
        "age_r = sn.catplot('R_age',data=ufcdata,kind=\"count\")\n",
        "age_r.set_xticklabels(step=5)"
      ],
      "execution_count": 4,
      "outputs": [
        {
          "output_type": "stream",
          "text": [
            "/usr/local/lib/python3.7/dist-packages/seaborn/_decorators.py:43: FutureWarning: Pass the following variable as a keyword arg: x. From version 0.12, the only valid positional argument will be `data`, and passing other arguments without an explicit keyword will result in an error or misinterpretation.\n",
            "  FutureWarning\n",
            "/usr/local/lib/python3.7/dist-packages/seaborn/_decorators.py:43: FutureWarning: Pass the following variable as a keyword arg: x. From version 0.12, the only valid positional argument will be `data`, and passing other arguments without an explicit keyword will result in an error or misinterpretation.\n",
            "  FutureWarning\n"
          ],
          "name": "stderr"
        },
        {
          "output_type": "execute_result",
          "data": {
            "text/plain": [
              "<seaborn.axisgrid.FacetGrid at 0x7f676c724c50>"
            ]
          },
          "metadata": {
            "tags": []
          },
          "execution_count": 4
        },
        {
          "output_type": "display_data",
          "data": {
            "image/png": "[encoded data removed]",
            "text/plain": [
              "<Figure size 360x360 with 1 Axes>"
            ]
          },
          "metadata": {
            "tags": [],
            "needs_background": "light"
          }
        },
        {
          "output_type": "display_data",
          "data": {
            "image/png": "[encoded data removed]",
            "text/plain": [
              "<Figure size 360x360 with 1 Axes>"
            ]
          },
          "metadata": {
            "tags": [],
            "needs_background": "light"
          }
        }
      ]
    },
    {
      "cell_type": "markdown",
      "metadata": {
        "id": "7nNW4EO1VYYd"
      },
      "source": [
        "These visualizations show the distribution of age for all UFC fighters over time. Most fighters are around 29-30 years old with a right skew that favorites the younger fighters. Next we want to see how this compares to the ages of the winners of each fight. Will the distribution be similar or more skewed in one direction? "
      ]
    },
    {
      "cell_type": "code",
      "metadata": {
        "colab": {
          "base_uri": "https://localhost:8080/",
          "height": 295
        },
        "id": "AUGzPKRGmw84",
        "outputId": "ece9f9eb-96c2-4317-b160-6af2cd0f4b2c"
      },
      "source": [
        "# Next lets compare those histograms to a histogram for all winners to begin to look at how age impacts the fight.\n",
        "winningages = []\n",
        "for fight,stats in ufcdata.iterrows():\n",
        "  if stats[\"Winner\"] == \"Blue\":\n",
        "    winningages.append(stats['R_age'])\n",
        "  if stats[\"Winner\"] == \"Red\":\n",
        "    winningages.append(stats['R_age'])\n",
        "plt.hist(winningages,10)\n",
        "plt.xlabel('Age')\n",
        "plt.ylabel('Total Wins')\n",
        "plt.title('Histogram of Winning Fights')\n",
        "plt.show()"
      ],
      "execution_count": 5,
      "outputs": [
        {
          "output_type": "display_data",
          "data": {
            "image/png": "[encoded data removed]",
            "text/plain": [
              "<Figure size 432x288 with 1 Axes>"
            ]
          },
          "metadata": {
            "tags": [],
            "needs_background": "light"
          }
        }
      ]
    },
    {
      "cell_type": "markdown",
      "metadata": {
        "id": "bsuRnvGeWPPR"
      },
      "source": [
        "After comparing the histogram of age of all fighters to the historgam of age of winners, it's evident that there is a similar distribition. The right skew appears to be more drastic for winners which suggests that older fighters are not winning fights at the same rate once they hit a certain age. Now let's determine exactly how much the win rate differs for older fighters than younger fighters by defining a 'Young' and 'Old' age for a fighter, then showing how often those types of fighters have won. "
      ]
    },
    {
      "cell_type": "code",
      "metadata": {
        "colab": {
          "base_uri": "https://localhost:8080/"
        },
        "id": "QprhhTTbYXvU",
        "outputId": "51577e98-989e-4a44-a37d-fd7139bec266"
      },
      "source": [
        "# Next, lets look at how age has affected the outcomes of fights.\n",
        "# In order to determine what defines a 'young' vs 'old' fighter, we will take the average age from the 10 years of data.\n",
        "import statistics as s\n",
        "import seaborn as sn\n",
        "\n",
        "avg_age = []\n",
        "for fighter,stats in ufcdata.iterrows():\n",
        "  avg_age.append(stats[\"B_age\"]) \n",
        "  avg_age.append(stats[\"R_age\"])\n",
        "av = len(avg_age)\n",
        "ufcage = sum(avg_age)/av\n",
        "print(\"Average Age of UFC Fighters is\",ufcage)\n",
        "\n",
        "# Next we will define old and young by taking the st.dev of the average age. \n",
        "\n",
        "agesdv = s.stdev(avg_age)\n",
        "oldfighters = ufcage+agesdv\n",
        "youngfighters = ufcage-agesdv\n",
        "print(\"Old Fighters are\",oldfighters,\"or older\")\n",
        "print(\"Young Fighters are\",youngfighters,\"or younger\")\n"
      ],
      "execution_count": 6,
      "outputs": [
        {
          "output_type": "stream",
          "text": [
            "Average Age of UFC Fighters is 29.723390275952696\n",
            "Old Fighters are 33.773904788579856 or older\n",
            "Young Fighters are 25.672875763325536 or younger\n"
          ],
          "name": "stdout"
        }
      ]
    },
    {
      "cell_type": "code",
      "metadata": {
        "colab": {
          "base_uri": "https://localhost:8080/",
          "height": 366
        },
        "id": "iJjdGvhXfpRV",
        "outputId": "d381d384-93c5-45a4-a2e9-4954fe4e25be"
      },
      "source": [
        "oldwins = []\n",
        "oldloss = []\n",
        "oldwinsage = []\n",
        "youngwins = []\n",
        "youngloss = []\n",
        "youngwinsage = []\n",
        "\n",
        "# Check if a fighter is \"Older\" or \"Younger\", then append the wins and losses to seperate lists.\n",
        "\n",
        "for fighter,stats in ufcdata.iterrows():\n",
        "  if stats[\"B_age\"] >= oldfighters:\n",
        "    if stats[\"Winner\"] == \"Blue\":\n",
        "      oldwins.append(stats[\"B_fighter\"])\n",
        "      oldwinsage.append(stats[\"B_age\"])\n",
        "    else:\n",
        "      oldloss.append(stats[\"Winner\"])\n",
        "  elif stats[\"R_age\"] >= oldfighters:\n",
        "    if stats[\"Winner\"] == \"Red\":\n",
        "      oldwins.append(stats[\"R_fighter\"])\n",
        "      oldwinsage.append(stats[\"R_age\"])\n",
        "    else:\n",
        "      oldloss.append(stats[\"Winner\"])\n",
        "  elif stats[\"B_age\"] <= youngfighters:\n",
        "    if stats[\"Winner\"] == \"Blue\":\n",
        "      youngwins.append(stats[\"B_fighter\"])\n",
        "      youngwinsage.append(stats[\"B_age\"])\n",
        "    else:\n",
        "      youngloss.append(stats[\"Winner\"])\n",
        "  elif stats[\"R_age\"] <= youngfighters:\n",
        "    if stats[\"Winner\"] == \"Red\":\n",
        "      youngwins.append(stats[\"R_fighter\"])\n",
        "      youngwinsage.append(stats[\"R_age\"])\n",
        "    else:\n",
        "      youngloss.append(stats[\"Winner\"])\n",
        "\n",
        "# Convert to percentage\n",
        "old_win_per = len(oldwins)/(len(oldwins)+len(oldloss))\n",
        "young_win_per = len(youngwins)/(len(youngwins)+len(youngloss))\n",
        "\n",
        "fig = plt.figure()\n",
        "ax = fig.add_axes([0,0,2,1])\n",
        "names = [\"Young Fighters\",\"Old Fighters\"]\n",
        "winps = [young_win_per,old_win_per]\n",
        "ax.bar(names,winps)\n",
        "plt.title('Older fighters (33.7 years+) vs. Younger Fighters (25.7 years-)')\n",
        "plt.ylim([0,1])\n",
        "plt.xlabel('Age Category')\n",
        "plt.ylabel('Win %')\n",
        "for x,y in zip(names,winps):\n",
        "    label = \"{:.2f}\".format(y)\n",
        "    plt.annotate(label, \n",
        "                 (x,y), \n",
        "                 textcoords=\"offset points\", \n",
        "                 xytext=(0,10), \n",
        "                 ha='center') \n",
        "plt.show()"
      ],
      "execution_count": 7,
      "outputs": [
        {
          "output_type": "display_data",
          "data": {
            "image/png": "[encoded data removed]",
            "text/plain": [
              "<Figure size 432x288 with 1 Axes>"
            ]
          },
          "metadata": {
            "tags": [],
            "needs_background": "light"
          }
        }
      ]
    },
    {
      "cell_type": "markdown",
      "metadata": {
        "id": "qGOFfbSSXrS6"
      },
      "source": [
        "With this visualization, we are able to actually measure the success of 'Young' fighters vs. 'Old' fighters. Clearly, younger fighters are more likley to have success at a 54% win rate while older fighters are only winning at a 41% rate. \n",
        "\n",
        "I have several hypothesis for why I believe these results are happening. First, is that it's believed that the older fighters are less likely to be sufficient in multiple forms of martial arts as younger fighters are. This is a result of increased awareness for the sport of MMA, and young kids are now learning multiple foundations of martial arts more than ever before. On the other hand, most older fighters started with one foundation (Kickboxing, Boxing, Muay Thai, Jiu-Jitsu, etc.), and have had to learn bits and pieces of other martial arts foundations along the way. \n",
        "\n",
        "Another hypothesis is that chin strength diminishes as a career goes on. 'Chin Strength' can be defined as the ability to take a punch and many fighters have said to experienced this phenomeneon. \n",
        "\n",
        "Ultimately, increasing age is clearly a factor one way or another and its impact is even larger than I initialy hypothesized. Next, lets look at a historgram of age for fighters who win in both the young and old categories."
      ]
    },
    {
      "cell_type": "code",
      "metadata": {
        "colab": {
          "base_uri": "https://localhost:8080/",
          "height": 837
        },
        "id": "EDp1waRcmSCU",
        "outputId": "fd5a8aac-4eca-454c-d86a-4a2a5843945d"
      },
      "source": [
        "win = []\n",
        "for i in oldwinsage:\n",
        "  win.append(1)\n",
        "list_of_tuples = list(zip(oldwinsage, win))  \n",
        "olddf = pd.DataFrame(list_of_tuples, columns=[\"Age\",\"Win\"])\n",
        "olddf\n",
        "winhistogram = sn.catplot('Age',data=olddf,kind=\"count\")\n",
        "\n",
        "list_of_tuples_2 = list(zip(youngwinsage, win))  \n",
        "youngdf = pd.DataFrame(list_of_tuples_2, columns=[\"Age\",\"Win\"])\n",
        "youngdf\n",
        "win_younghistogram = sn.catplot('Age',data=youngdf,kind=\"count\")"
      ],
      "execution_count": 8,
      "outputs": [
        {
          "output_type": "stream",
          "text": [
            "/usr/local/lib/python3.7/dist-packages/seaborn/_decorators.py:43: FutureWarning: Pass the following variable as a keyword arg: x. From version 0.12, the only valid positional argument will be `data`, and passing other arguments without an explicit keyword will result in an error or misinterpretation.\n",
            "  FutureWarning\n",
            "/usr/local/lib/python3.7/dist-packages/seaborn/_decorators.py:43: FutureWarning: Pass the following variable as a keyword arg: x. From version 0.12, the only valid positional argument will be `data`, and passing other arguments without an explicit keyword will result in an error or misinterpretation.\n",
            "  FutureWarning\n"
          ],
          "name": "stderr"
        },
        {
          "output_type": "display_data",
          "data": {
            "image/png": "[encoded data removed]",
            "text/plain": [
              "<Figure size 360x360 with 1 Axes>"
            ]
          },
          "metadata": {
            "tags": [],
            "needs_background": "light"
          }
        },
        {
          "output_type": "display_data",
          "data": {
            "image/png": "[encoded data removed]",
            "text/plain": [
              "<Figure size 360x360 with 1 Axes>"
            ]
          },
          "metadata": {
            "tags": [],
            "needs_background": "light"
          }
        }
      ]
    },
    {
      "cell_type": "markdown",
      "metadata": {
        "id": "7DxgAb8lhm15"
      },
      "source": [
        "As expected, the winning age for winning fighters decreases/increases exponentially as the age gets closer to the mean. "
      ]
    },
    {
      "cell_type": "markdown",
      "metadata": {
        "id": "MlTo8LJCX_at"
      },
      "source": [
        "# Initial Question 3: What is the impact of reach in the UFC? "
      ]
    },
    {
      "cell_type": "markdown",
      "metadata": {
        "id": "Xr_9NyNciHuu"
      },
      "source": [
        "Reach is a common topic in the UFC when comparing fighters in a matchup. At base level, a longer reach makes it easier to hit your opponent before they hit you. As a result, many UFC fans and analysts talk about the importance of a reach advantage. To what extent does that exsist? Is it significant? Does it increase exponentially as reach advantage increases?\n"
      ]
    },
    {
      "cell_type": "code",
      "metadata": {
        "id": "5BV5LhF7i-nE",
        "colab": {
          "base_uri": "https://localhost:8080/",
          "height": 513
        },
        "outputId": "0e4d6c25-2d15-45db-8ca8-01e1a15b88ee"
      },
      "source": [
        "# Using the 'reach_dif' column. We can identify how a reach discrepancy effects the winner of a fight.\n",
        "ufcdata[\"reach_dif\"].describe()\n",
        "from statistics import mean \n",
        "# Since the mean reach differential is -.24cm and its std is 9.524cm, we can assume the lower and upper bounds.\n",
        "# If a value is negative, it means that the red fighter has the reach advantage. If positive, blue has a reach advantage.\n",
        "redadv = []\n",
        "rednoadv = []\n",
        "blueadv = []\n",
        "bluenoadv = []\n",
        "for fight,stats in ufcdata.iterrows():\n",
        "  if stats[\"reach_dif\"]<0:\n",
        "    if stats['Winner'] == 'Red':\n",
        "      redadv.append(stats[\"reach_dif\"])\n",
        "    else:\n",
        "      rednoadv.append(stats[\"reach_dif\"])\n",
        "  elif stats[\"reach_dif\"]>0:\n",
        "    if stats['Winner'] == 'Blue':\n",
        "      blueadv.append(stats[\"reach_dif\"])\n",
        "    else:\n",
        "      bluenoadv.append(stats[\"reach_dif\"])\n",
        "      \n",
        "advwins = len(redadv)+len(blueadv)\n",
        "advloss = len(rednoadv)+len(bluenoadv)\n",
        "advwinpercent = advwins/(advwins+advloss)\n",
        "\n",
        "# Now lets try using a 'Significant' Reach advantage, which is defined by the difference between the mean and the 9.524cm st dev.\n",
        "sigredadv = []\n",
        "sigrednoadv = []\n",
        "sigblueadv = []\n",
        "sigbluenoadv = []\n",
        "for fight,stats in ufcdata.iterrows():\n",
        "  if stats[\"reach_dif\"]<-9.542:\n",
        "    if stats['Winner'] == 'Red':\n",
        "      sigredadv.append(stats[\"reach_dif\"])\n",
        "    else:\n",
        "      sigrednoadv.append(stats[\"reach_dif\"])\n",
        "  elif stats[\"reach_dif\"]>9.542:\n",
        "    if stats['Winner'] == 'Blue':\n",
        "      sigblueadv.append(stats[\"reach_dif\"])\n",
        "    else:\n",
        "      sigbluenoadv.append(stats[\"reach_dif\"])\n",
        "\n",
        "sigadvwins = len(sigredadv)+len(sigblueadv)\n",
        "sigadvloss = len(sigrednoadv)+len(sigbluenoadv)\n",
        "sigadvwinpercent = sigadvwins/(sigadvwins+sigadvloss)\n",
        "\n",
        "# Now lets make some visualizations.\n",
        "\n",
        "#1\n",
        "plt.style.use('ggplot')\n",
        "labels = [\"Reach Advantage\",\"No Advantage\"]\n",
        "wShare = [advwins,advloss]\n",
        "plt.pie(wShare, labels=labels, autopct='%.1f%%', startangle=45)\n",
        "plt.title('Win % for Any Reach Advantage')\n",
        "plt.axis('equal')\n",
        "plt.show()\n",
        "\n",
        "#2\n",
        "plt.style.use('ggplot')\n",
        "slabels = [\"Significant Reach Advantage\",\"No Significant Advantage\"]\n",
        "swShare = [sigadvwins,sigadvloss]\n",
        "plt.pie(swShare, labels=slabels, autopct='%.1f%%', startangle=45)\n",
        "plt.title('Win % for Significant Reach Advantage (9.52cm)(3.74in)')\n",
        "plt.axis('equal')\n",
        "plt.show()"
      ],
      "execution_count": 9,
      "outputs": [
        {
          "output_type": "display_data",
          "data": {
            "image/png": "[encoded data removed]",
            "text/plain": [
              "<Figure size 432x288 with 1 Axes>"
            ]
          },
          "metadata": {
            "tags": []
          }
        },
        {
          "output_type": "display_data",
          "data": {
            "image/png": "[encoded data removed]",
            "text/plain": [
              "<Figure size 432x288 with 1 Axes>"
            ]
          },
          "metadata": {
            "tags": []
          }
        }
      ]
    },
    {
      "cell_type": "markdown",
      "metadata": {
        "id": "rA_ccpQPrNi8"
      },
      "source": [
        "Looking at the first pie chart, there is a 52.6% win percentage whenever a fighter has any reach advantage at all. This is a relatively insignificant difference in win%, but could foreshadow a larger relationship between reach and win%.\n",
        "\n",
        "In the second pie chart, fighters are defined as having a significant reach advantage by taking the standard deviation of all reach differentials over the years. At 9.52cm (3.74in), fighters with a significant reach advantage won at a much highter clip of 55.4% of the time. \n",
        "\n",
        "Overall, using these two charts, we can see that a reach advantage does help and likely continues to help as the reach advantage widens. However, having a reach advantage only tells apart of the story. It is apparent that even with a significant reach disadvantage, those fighters can still find other ways to defeat their opponent. \n",
        "\n",
        "To further this analysis, lets compare reach advantages between winners and all fighters and see if there is a signifcant advantage."
      ]
    },
    {
      "cell_type": "code",
      "metadata": {
        "colab": {
          "base_uri": "https://localhost:8080/",
          "height": 353
        },
        "id": "rGr8p0dPqppE",
        "outputId": "63bcb5a5-0e74-41c0-fbaf-b85a8b74d288"
      },
      "source": [
        "#3\n",
        "winningreach = []\n",
        "for fight,stats in ufcdata.iterrows():\n",
        "  if stats[\"Winner\"]==\"Blue\":\n",
        "    if stats[\"reach_dif\"] > 0:\n",
        "      winningreach.append(stats[\"reach_dif\"])\n",
        "    else:\n",
        "      winningreach.append(stats[\"reach_dif\"])\n",
        "  elif stats[\"Winner\"]==\"Red\":\n",
        "    if stats[\"reach_dif\"] < 0:\n",
        "      winningreach.append(-1*stats[\"reach_dif\"])\n",
        "    else:\n",
        "      winningreach.append(-1*stats[\"reach_dif\"])\n",
        "\n",
        "avwinningreach = mean(winningreach)\n",
        "ufcav = float(ufcdata[\"reach_dif\"].mean())\n",
        "\n",
        "fig = plt.figure()\n",
        "ax = fig.add_axes([0,0,2,1])\n",
        "names = [\"Winner Reach Advantage\",\"Av. Reach Advantage\"]\n",
        "reaches = [avwinningreach,abs(ufcav)]\n",
        "ax.bar(names,reaches)\n",
        "plt.title('Reach advantage for Winners vs. All fighters (Cm)')\n",
        "plt.ylim([0,5])\n",
        "for x,y in zip(names,reaches):\n",
        "    label = \"{:.2f}\".format(y)\n",
        "    plt.annotate(label, \n",
        "                 (x,y), \n",
        "                 textcoords=\"offset points\", \n",
        "                 xytext=(0,10), \n",
        "                 ha='center') \n",
        "plt.show()"
      ],
      "execution_count": 10,
      "outputs": [
        {
          "output_type": "display_data",
          "data": {
            "image/png": "[encoded data removed]",
            "text/plain": [
              "<Figure size 432x288 with 1 Axes>"
            ]
          },
          "metadata": {
            "tags": []
          }
        }
      ]
    },
    {
      "cell_type": "markdown",
      "metadata": {
        "id": "40iKBL6Evd38"
      },
      "source": [
        "For all UFC fights, the average reach advantage is .24cm and the average reach advantage for winners is .7cm\n",
        "\n",
        "After seeing the pie chart results above, this graph was a bit of a surprise. The difference between these values is insignicant and furthers the argument that fighters at a reach disadvantage can still find ways to win their fights at a pretty decent rate.\n",
        "\n",
        "Overall, reach can play a factor in winning a UFC fight, but the extent is likely overexaggerated by the media and fans. Even with a significant reach advantage, the distribution of winners was still relatively close to even."
      ]
    },
    {
      "cell_type": "markdown",
      "metadata": {
        "id": "Fk_zoEvEY8M7"
      },
      "source": [
        "# Initial Question 4: To what extent does the empty arena as a result of COVID-19 change the fight outcome? (Underdog Performance)"
      ]
    },
    {
      "cell_type": "markdown",
      "metadata": {
        "id": "EmvrHR-kxuuF"
      },
      "source": [
        "As a result of COVID-19, the UFC began holding events without fans at UFC 249 on May 5th, 2020 and has continued to do so through March of 2021. Now we have roughly one year of data on fights that don't have fans. \n",
        "\n",
        "When asked about fighting without fans, UFC Lightweight Champion Khabib Nurmagomedov said \"Honestly, this energy I don't like.\" Many UFC fighters expect to feel and possibly perform slightly differently without the energy of the fans. \n",
        "\n",
        "Lets take a brief look at how fight performance differed when there was an empty arena vs. an arena with fans. One way to measure this is to see if underdogs were more or less likely to win based on the arena. "
      ]
    },
    {
      "cell_type": "code",
      "metadata": {
        "id": "Y5ssGvP7PE7m",
        "colab": {
          "base_uri": "https://localhost:8080/",
          "height": 421
        },
        "outputId": "66fde0f6-8cba-4d42-a21a-e76e0dece598"
      },
      "source": [
        "nofansdf = ufcdata[ufcdata[\"empty_arena\"] == 1]\n",
        "fansdf = ufcdata[ufcdata[\"empty_arena\"] == 0]\n",
        "\n",
        "# Did having no fans impact expected performance? For example: Did underdogs win at a higher or lower rate without fans?\n",
        "fanunderdog = []\n",
        "fanarena = []\n",
        "for fight,stats in fansdf.iterrows():\n",
        "  if stats['R_odds'] >= 100 and stats[\"R_odds\"] <= 250:\n",
        "    if stats['Winner'] == \"Red\":\n",
        "      fanunderdog.append(stats[\"R_odds\"]) \n",
        "      fanarena.append(stats[\"empty_arena\"])\n",
        "  elif stats['B_odds'] >= 100 and stats[\"B_odds\"] <= 250:\n",
        "    if stats['Winner'] == \"Blue\":\n",
        "      fanunderdog.append(stats[\"B_odds\"]) \n",
        "      fanarena.append(stats[\"empty_arena\"])\n",
        "nofanunderdog = []\n",
        "nofanarena = []\n",
        "\n",
        "for fight,stats in nofansdf.iterrows():\n",
        "  if stats['R_odds'] >= 100 and stats[\"R_odds\"] <= 250:\n",
        "    if stats['Winner'] == \"Red\":\n",
        "      nofanunderdog.append(stats[\"R_odds\"]) \n",
        "      nofanarena.append(stats[\"empty_arena\"])\n",
        "  elif stats['B_odds'] >= 100 and stats[\"B_odds\"] <= 250:\n",
        "    if stats['Winner'] == \"Blue\":\n",
        "      nofanunderdog.append(stats[\"B_odds\"]) \n",
        "      nofanarena.append(stats[\"empty_arena\"])\n",
        "\n",
        "nofanrate = len(nofanunderdog)/len(nofansdf)\n",
        "fanrate = len(fanunderdog)/len(fansdf)\n",
        "print(\"Without Fans:\\n With average odds of\",mean(nofanunderdog),\"underdogs won at a\",nofanrate,\"rate\")\n",
        "print(\"With Fans:\\n With average odds of\",mean(fanunderdog),\"underdogs won at a\",fanrate,\"rate\")\n",
        "\n",
        "fig = plt.figure()\n",
        "ax = fig.add_axes([0,0,2,1])\n",
        "names = [\"Without Fans\",\"With Fans\"]\n",
        "reaches = [nofanrate,fanrate]\n",
        "ax.bar(names,reaches)\n",
        "plt.title('Underdog Winning Rate - With Fans vs. Without Fans')\n",
        "plt.ylim([0,.5])\n",
        "for x,y in zip(names,reaches):\n",
        "    label = \"{:.2f}\".format(y)\n",
        "    plt.annotate(label, \n",
        "                 (x,y), \n",
        "                 textcoords=\"offset points\", \n",
        "                 xytext=(0,10), \n",
        "                 ha='center') \n",
        "plt.show()"
      ],
      "execution_count": 11,
      "outputs": [
        {
          "output_type": "stream",
          "text": [
            "Without Fans:\n",
            " With average odds of 155.27350427350427 underdogs won at a 0.2925 rate\n",
            "With Fans:\n",
            " With average odds of 153.01563857515205 underdogs won at a 0.27628420547287563 rate\n"
          ],
          "name": "stdout"
        },
        {
          "output_type": "display_data",
          "data": {
            "image/png": "[encoded data removed]",
            "text/plain": [
              "<Figure size 432x288 with 1 Axes>"
            ]
          },
          "metadata": {
            "tags": []
          }
        }
      ]
    },
    {
      "cell_type": "markdown",
      "metadata": {
        "id": "6Y1XiOp80i3i"
      },
      "source": [
        "This analysis reveals that having fans hasn't had much of an impact on how the fighters perform. \n",
        "\n",
        "When looking closer into the numbers there is a relationship that could exsist and is worth monitoring moving forward. Without fans the underdogs won 29.25% of the time with average odds of +155, but with fans, the underdogs won at a slightly lower clip (27.63%) while still having a slight advantage in odds at +153. This means that without fans underdogs are winning at a slightly higher clip even with slightly worse expectancy to win from the odds. \n",
        "\n",
        "However, the sample size is still rather small, as there is less than a year of data without fans and about 9 years of data with fans. Thus, this potntial realtionship certainly needs more data to be able to validate this assumption. Since the UFC is currently planning on having fans return in 2021, we may never get an answer to this question. "
      ]
    },
    {
      "cell_type": "markdown",
      "metadata": {
        "id": "4c0Ue5V8rXTW"
      },
      "source": [
        "# Initial Question # 5: Fighter Longevity: Do wins in the UFC help you stay in the UFC? Do losses force you out of the UFC?\n",
        "\n"
      ]
    },
    {
      "cell_type": "markdown",
      "metadata": {
        "id": "9gmq2eQj2sLT"
      },
      "source": [
        "The final topic of analysis is fighter longevity. Earlier in the EDA, we saw that age was a factor in determining the fighters future win%, but now lets see if a relationship exists between total UFC wins or losses and future win%. Since age is likely colinear to total wins or losses, we can expect there to be a point of diminishing returns. Where does that begin?"
      ]
    },
    {
      "cell_type": "code",
      "metadata": {
        "id": "GlwONgM5sUJI",
        "colab": {
          "base_uri": "https://localhost:8080/",
          "height": 299
        },
        "outputId": "964d60d8-39df-4c9f-e869-b9205c2718c2"
      },
      "source": [
        "# Make df for each winner then make histogram for each number of R_wins and B_wins.\n",
        "\n",
        "dfblue = ufcdata[ufcdata[\"Winner\"]==\"Blue\"]\n",
        "dfred = ufcdata[ufcdata[\"Winner\"]==\"Red\"]\n",
        "\n",
        "# Iterate through dfs.\n",
        "bwcounts = dfblue['B_wins'].value_counts().to_dict()\n",
        "rlcounts = dfblue['R_wins'].value_counts().to_dict()\n",
        "\n",
        "rwcounts = dfred['R_wins'].value_counts().to_dict()\n",
        "blcounts = dfred['B_wins'].value_counts().to_dict()\n",
        "\n",
        "# Find the average win percentage for each number of wins.\n",
        "percentages = {}\n",
        "for i in range(20):\n",
        "  percentages[i] = bwcounts[i]/(bwcounts[i]+blcounts[i])\n",
        "percentages_2 = {}\n",
        "for i in range(20):\n",
        "  percentages_2[i] = rwcounts[i]/(rwcounts[i]+rlcounts[i])\n",
        "\n",
        "# Currently each dictionary includes data from the blue or the red df. Now we need to take the average of the two.\n",
        "finalwinpercent = {}\n",
        "for i in range(20):\n",
        "  finalwinpercent[i] = (percentages[i]+percentages_2[i])/2\n",
        "\n",
        "# Send dictionary to 2 lists for plotting. \n",
        "nwins = list(finalwinpercent.keys())           \n",
        "wpercent = list(finalwinpercent.values())        \n",
        "\n",
        "plt.plot(nwins,wpercent)\n",
        "plt.xlabel(\"Number of UFC Wins\") \n",
        "plt.ylabel(\"Win Liklihood %\") \n",
        "plt.title('Win % based on  # of UFC Wins') \n",
        "plt.show() "
      ],
      "execution_count": 12,
      "outputs": [
        {
          "output_type": "display_data",
          "data": {
            "image/png": "[encoded data removed]",
            "text/plain": [
              "<Figure size 432x288 with 1 Axes>"
            ]
          },
          "metadata": {
            "tags": []
          }
        }
      ]
    },
    {
      "cell_type": "markdown",
      "metadata": {
        "id": "wdIx-olk64z0"
      },
      "source": [
        "One way to analyze the performance of fighters based on their UFC record was by using a simple line chart. Here we are able to see that as fighters start to win in the UFC, they can expect to experience a higher win % up until roughly 8 UFC wins. Then after 8 wins, there is a point of diminishing returns as the slope of the line begins to become more negative. Now let's take a look at how losing corrilates to UFC win %."
      ]
    },
    {
      "cell_type": "code",
      "metadata": {
        "id": "SniCx1gnXM_n",
        "colab": {
          "base_uri": "https://localhost:8080/",
          "height": 299
        },
        "outputId": "5eb7bf24-fa4e-49fb-bd84-05e55a6c0353"
      },
      "source": [
        "# Iterate through dfs.\n",
        "blcounts = dfblue['B_losses'].value_counts().to_dict()\n",
        "rwcounts = dfblue['R_losses'].value_counts().to_dict()\n",
        "\n",
        "rlcounts = dfred['R_losses'].value_counts().to_dict()\n",
        "bwcounts = dfred['B_losses'].value_counts().to_dict()\n",
        "\n",
        "# Find the average win percentage for each number of losses.\n",
        "percentages = {}\n",
        "for i in range(14):\n",
        "  percentages[i] = blcounts[i]/(blcounts[i]+bwcounts[i])\n",
        "percentages_2 = {}\n",
        "for i in range(14):\n",
        "  percentages_2[i] = rlcounts[i]/(rlcounts[i]+rwcounts[i])\n",
        "\n",
        "# Currently each dictionary includes data from the blue or the red df. Now we need to take the average of the two.\n",
        "finalwinpercent = {}\n",
        "for i in range(14):\n",
        "  finalwinpercent[i] = (percentages[i]+percentages_2[i])/2\n",
        "\n",
        "# Send dictionary to 2 lists for plotting. \n",
        "nlosses = list(finalwinpercent.keys())           \n",
        "wipercent = list(finalwinpercent.values())        \n",
        "\n",
        "plt.plot(nlosses,wipercent)\n",
        "plt.xlabel(\"Number of UFC Losses\") \n",
        "plt.ylabel(\"Win Liklihood %\") \n",
        "plt.title('Loss % based on  # of UFC Losses') \n",
        "plt.show() "
      ],
      "execution_count": 13,
      "outputs": [
        {
          "output_type": "display_data",
          "data": {
            "image/png": "[encoded data removed]",
            "text/plain": [
              "<Figure size 432x288 with 1 Axes>"
            ]
          },
          "metadata": {
            "tags": []
          }
        }
      ]
    },
    {
      "cell_type": "markdown",
      "metadata": {
        "id": "f8Ga_jWk_8TN"
      },
      "source": [
        "This line chart shows the impact of losing UFC fights on a fighter's future expected win %. \n",
        "\n",
        "The key takeaways from the chart include:\n",
        " - If a fighter still has 3 or less losses in the UFC, their future win% hardly changes at all and stays between 53% and 50%.\n",
        " - Once a fighter losses for the 5th time, there is a severe drop in the slope for expected win % for the rest of the fighter's career.\n",
        " - Lastly, once a fighter has lost 10 or more times, they are at a severe disadvantage when predicitng their future win %. "
      ]
    },
    {
      "cell_type": "markdown",
      "metadata": {
        "id": "73fFSoymKQEJ"
      },
      "source": [
        "Ultimately, this EDA provided insight on the performance of UFC fighters considering key varaibles that go into every fight such as age, reach, fans, wins, losses and more.\n",
        "\n",
        "These insights can best be used for analysts of the game of MMA, fans of the UFC, as well as potential match-makers in fighting organizations around the world. "
      ]
    }
  ]
}